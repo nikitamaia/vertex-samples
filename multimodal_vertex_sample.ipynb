{
  "cells": [
    {
      "cell_type": "markdown",
      "id": "2189954d-4297-4d7e-9117-d07b230df8cf",
      "metadata": {
        "id": "2189954d-4297-4d7e-9117-d07b230df8cf"
      },
      "source": [
        "# Multimodal training on Vertex AI\n",
        "\n",
        "\n",
        "This sample shows how to run [this multimodal entailment tutorial]( https://keras.io/examples/nlp/multimodal_entailment/) as a custom training job on Vertex AI.\n",
        "\n",
        "The TensorFlow model you'll train in this sample takes in both text and image data. \n",
        "\n",
        "The prediction task is:\n",
        "Given the pairs of (text_1, image_1) and (text_2, image_2) do they entail (or not entail or contradict) each other?\n",
        "\n",
        "The purpose of this notebook is to demonstrate multimodal training on Vertex AI. For more detail on the task and dataset, [check out the original tutorial.](https://keras.io/examples/nlp/multimodal_entailment/)"
      ]
    },
    {
      "cell_type": "markdown",
      "id": "3dc6fe94-8012-494e-b351-084fa1d60956",
      "metadata": {
        "id": "3dc6fe94-8012-494e-b351-084fa1d60956"
      },
      "source": [
        "## Initialize SDK"
      ]
    },
    {
      "cell_type": "markdown",
      "source": [
        "Note that if you are running this notebook in Vertex AI Workbench, your environment is already authenticated. If you are running from Colab, you'll need to authenticate your GCP account in order to run a training job on Vertex AI."
      ],
      "metadata": {
        "id": "c5bUHL1-WLwW"
      },
      "id": "c5bUHL1-WLwW"
    },
    {
      "cell_type": "code",
      "execution_count": null,
      "id": "31e7fd67-8591-4c6f-8995-fb260e919ed6",
      "metadata": {
        "id": "31e7fd67-8591-4c6f-8995-fb260e919ed6"
      },
      "outputs": [],
      "source": [
        "from google.cloud import aiplatform"
      ]
    },
    {
      "cell_type": "code",
      "execution_count": null,
      "id": "10ef23ff-0d46-4785-96db-384b45804f75",
      "metadata": {
        "id": "10ef23ff-0d46-4785-96db-384b45804f75"
      },
      "outputs": [],
      "source": [
        "# Add in your project_id, region, and bucket\n",
        "\n",
        "PROJECT_ID='{PROJECT_ID}'\n",
        "REGION='{REGION}'\n",
        "BUCKET_NAME='gs://{BUCKET}'"
      ]
    },
    {
      "cell_type": "code",
      "execution_count": null,
      "id": "c2ee2b61-15b1-44c6-92ed-e4eaea976359",
      "metadata": {
        "id": "c2ee2b61-15b1-44c6-92ed-e4eaea976359"
      },
      "outputs": [],
      "source": [
        "aiplatform.init(project=PROJECT_ID, location=REGION, staging_bucket=BUCKET_NAME)"
      ]
    },
    {
      "cell_type": "code",
      "execution_count": null,
      "id": "029a222a-62bd-43e9-94a2-3fcb47ba1202",
      "metadata": {
        "id": "029a222a-62bd-43e9-94a2-3fcb47ba1202"
      },
      "outputs": [],
      "source": [
        "# Create directory for training application code\n",
        "\n",
        "! mkdir multimodal_sample"
      ]
    },
    {
      "cell_type": "code",
      "execution_count": null,
      "id": "b5b8b395-6c14-44cd-9032-36647fe22e6d",
      "metadata": {
        "id": "b5b8b395-6c14-44cd-9032-36647fe22e6d"
      },
      "outputs": [],
      "source": [
        "# Create trainer\n",
        "\n",
        "! mkdir multimodal_sample/trainer"
      ]
    },
    {
      "cell_type": "markdown",
      "id": "08108164-5041-4649-b2db-fc40c2fb3561",
      "metadata": {
        "id": "08108164-5041-4649-b2db-fc40c2fb3561"
      },
      "source": [
        "## Visualize Data\n",
        "\n",
        "Before we run a training job, let's visualize the data."
      ]
    },
    {
      "cell_type": "code",
      "execution_count": null,
      "id": "64cd0ced-a174-4653-89f1-47e0139209aa",
      "metadata": {
        "id": "64cd0ced-a174-4653-89f1-47e0139209aa"
      },
      "outputs": [],
      "source": [
        "from tensorflow import keras\n",
        "import pandas as pd\n",
        "import os\n",
        "import numpy as np\n",
        "import matplotlib.pyplot as plt"
      ]
    },
    {
      "cell_type": "code",
      "execution_count": null,
      "id": "3ac01f49-a7b2-459e-a497-460d6d3b247e",
      "metadata": {
        "id": "3ac01f49-a7b2-459e-a497-460d6d3b247e",
        "outputId": "e11f60da-569b-42f5-d1e7-34df512a1f44"
      },
      "outputs": [
        {
          "name": "stdout",
          "output_type": "stream",
          "text": [
            "Downloading data from https://github.com/sayakpaul/Multimodal-Entailment-Baseline/releases/download/v1.0.0/tweet_images.tar.gz\n",
            "344273442/344273442 [==============================] - 10s 0us/step\n"
          ]
        }
      ],
      "source": [
        "image_base_path = keras.utils.get_file(\n",
        "    \"tweet_images\",\n",
        "    \"https://github.com/sayakpaul/Multimodal-Entailment-Baseline/releases/download/v1.0.0/tweet_images.tar.gz\",\n",
        "    untar=True,\n",
        ")"
      ]
    },
    {
      "cell_type": "code",
      "execution_count": null,
      "id": "12dcea40-5867-4cb0-ac88-179dc546f76b",
      "metadata": {
        "id": "12dcea40-5867-4cb0-ac88-179dc546f76b",
        "outputId": "7daf45ad-e4f0-4217-a005-e301aa88ecd2"
      },
      "outputs": [
        {
          "data": {
            "text/html": [
              "<div>\n",
              "<style scoped>\n",
              "    .dataframe tbody tr th:only-of-type {\n",
              "        vertical-align: middle;\n",
              "    }\n",
              "\n",
              "    .dataframe tbody tr th {\n",
              "        vertical-align: top;\n",
              "    }\n",
              "\n",
              "    .dataframe thead th {\n",
              "        text-align: right;\n",
              "    }\n",
              "</style>\n",
              "<table border=\"1\" class=\"dataframe\">\n",
              "  <thead>\n",
              "    <tr style=\"text-align: right;\">\n",
              "      <th></th>\n",
              "      <th>id_1</th>\n",
              "      <th>text_1</th>\n",
              "      <th>image_1</th>\n",
              "      <th>id_2</th>\n",
              "      <th>text_2</th>\n",
              "      <th>image_2</th>\n",
              "      <th>label</th>\n",
              "    </tr>\n",
              "  </thead>\n",
              "  <tbody>\n",
              "    <tr>\n",
              "      <th>754</th>\n",
              "      <td>1380539052215123970</td>\n",
              "      <td>@tradingview Break and retest   $USD $CHF Join...</td>\n",
              "      <td>http://pbs.twimg.com/media/Eyio8qSWEAU4Wh9.jpg</td>\n",
              "      <td>1381580880884477953</td>\n",
              "      <td>@tradingview Moving lower as expected   $USD $...</td>\n",
              "      <td>http://pbs.twimg.com/media/EyxcfWLW8AEDWHo.jpg</td>\n",
              "      <td>NoEntailment</td>\n",
              "    </tr>\n",
              "    <tr>\n",
              "      <th>387</th>\n",
              "      <td>1374033219813658631</td>\n",
              "      <td>WV WOOZI COMMENT 🌟\\n@pledis_17 #SEVENTEEN #WOO...</td>\n",
              "      <td>http://pbs.twimg.com/media/ExGL7nAVEAQInW_.jpg</td>\n",
              "      <td>1374196539183169539</td>\n",
              "      <td>210323 *#WOOZI comment on #HOSHI’s post*\\n\\nWZ...</td>\n",
              "      <td>http://pbs.twimg.com/media/ExIgeCjUYAQJTaB.jpg</td>\n",
              "      <td>Implies</td>\n",
              "    </tr>\n",
              "    <tr>\n",
              "      <th>1018</th>\n",
              "      <td>1358724544131788801</td>\n",
              "      <td>I just earned the [The Forgotten One] Achievem...</td>\n",
              "      <td>http://pbs.twimg.com/media/EtsoxeTUUAE2wNx.jpg</td>\n",
              "      <td>1366747973783330817</td>\n",
              "      <td>I just earned the [The Forgotten One] Achievem...</td>\n",
              "      <td>http://pbs.twimg.com/media/EveqCi8XEAMQwSM.jpg</td>\n",
              "      <td>NoEntailment</td>\n",
              "    </tr>\n",
              "    <tr>\n",
              "      <th>13</th>\n",
              "      <td>1359049457367724034</td>\n",
              "      <td>#COVID19 Vaccination Tracker\\n(upto 09th Febru...</td>\n",
              "      <td>http://pbs.twimg.com/media/EtxQR5aXMAQ0cxa.png</td>\n",
              "      <td>1381525016257437701</td>\n",
              "      <td>#COVID19 Vaccination Tracker\\n#LargestVaccineD...</td>\n",
              "      <td>http://pbs.twimg.com/media/EywprmqWgAQzKi9.png</td>\n",
              "      <td>Contradictory</td>\n",
              "    </tr>\n",
              "    <tr>\n",
              "      <th>1398</th>\n",
              "      <td>1347182178619305985</td>\n",
              "      <td>@HaasF1Team This is amazing!\\nAlmost as amazin...</td>\n",
              "      <td>http://pbs.twimg.com/media/ErInDTqXUAQTWbr.jpg</td>\n",
              "      <td>1382681029564059651</td>\n",
              "      <td>@HaasF1Team @nikita_mazepin Even in the simula...</td>\n",
              "      <td>http://pbs.twimg.com/media/EzBFETmXMAMMZXx.jpg</td>\n",
              "      <td>NoEntailment</td>\n",
              "    </tr>\n",
              "  </tbody>\n",
              "</table>\n",
              "</div>"
            ],
            "text/plain": [
              "                     id_1                                             text_1  \\\n",
              "754   1380539052215123970  @tradingview Break and retest   $USD $CHF Join...   \n",
              "387   1374033219813658631  WV WOOZI COMMENT 🌟\\n@pledis_17 #SEVENTEEN #WOO...   \n",
              "1018  1358724544131788801  I just earned the [The Forgotten One] Achievem...   \n",
              "13    1359049457367724034  #COVID19 Vaccination Tracker\\n(upto 09th Febru...   \n",
              "1398  1347182178619305985  @HaasF1Team This is amazing!\\nAlmost as amazin...   \n",
              "\n",
              "                                             image_1                 id_2  \\\n",
              "754   http://pbs.twimg.com/media/Eyio8qSWEAU4Wh9.jpg  1381580880884477953   \n",
              "387   http://pbs.twimg.com/media/ExGL7nAVEAQInW_.jpg  1374196539183169539   \n",
              "1018  http://pbs.twimg.com/media/EtsoxeTUUAE2wNx.jpg  1366747973783330817   \n",
              "13    http://pbs.twimg.com/media/EtxQR5aXMAQ0cxa.png  1381525016257437701   \n",
              "1398  http://pbs.twimg.com/media/ErInDTqXUAQTWbr.jpg  1382681029564059651   \n",
              "\n",
              "                                                 text_2  \\\n",
              "754   @tradingview Moving lower as expected   $USD $...   \n",
              "387   210323 *#WOOZI comment on #HOSHI’s post*\\n\\nWZ...   \n",
              "1018  I just earned the [The Forgotten One] Achievem...   \n",
              "13    #COVID19 Vaccination Tracker\\n#LargestVaccineD...   \n",
              "1398  @HaasF1Team @nikita_mazepin Even in the simula...   \n",
              "\n",
              "                                             image_2          label  \n",
              "754   http://pbs.twimg.com/media/EyxcfWLW8AEDWHo.jpg   NoEntailment  \n",
              "387   http://pbs.twimg.com/media/ExIgeCjUYAQJTaB.jpg        Implies  \n",
              "1018  http://pbs.twimg.com/media/EveqCi8XEAMQwSM.jpg   NoEntailment  \n",
              "13    http://pbs.twimg.com/media/EywprmqWgAQzKi9.png  Contradictory  \n",
              "1398  http://pbs.twimg.com/media/EzBFETmXMAMMZXx.jpg   NoEntailment  "
            ]
          },
          "execution_count": 113,
          "metadata": {},
          "output_type": "execute_result"
        }
      ],
      "source": [
        "df = pd.read_csv(\n",
        "    \"https://github.com/sayakpaul/Multimodal-Entailment-Baseline/raw/main/csvs/tweets.csv\"\n",
        ")\n",
        "df.sample(5)"
      ]
    },
    {
      "cell_type": "code",
      "execution_count": null,
      "id": "6ab63eac-a04f-46d7-9e4f-9e4b18ce8574",
      "metadata": {
        "id": "6ab63eac-a04f-46d7-9e4f-9e4b18ce8574"
      },
      "outputs": [],
      "source": [
        "label_map = {\"Contradictory\": 0, \"Implies\": 1, \"NoEntailment\": 2}\n",
        "\n",
        "images_one_paths = []\n",
        "images_two_paths = []\n",
        "\n",
        "for idx in range(len(df)):\n",
        "    current_row = df.iloc[idx]\n",
        "    id_1 = current_row[\"id_1\"]\n",
        "    id_2 = current_row[\"id_2\"]\n",
        "    extentsion_one = current_row[\"image_1\"].split(\".\")[-1]\n",
        "    extentsion_two = current_row[\"image_2\"].split(\".\")[-1]\n",
        "\n",
        "    image_one_path = os.path.join(image_base_path, str(id_1) + f\".{extentsion_one}\")\n",
        "    image_two_path = os.path.join(image_base_path, str(id_2) + f\".{extentsion_two}\")\n",
        "\n",
        "    images_one_paths.append(image_one_path)\n",
        "    images_two_paths.append(image_two_path)\n",
        "\n",
        "df[\"image_1_path\"] = images_one_paths\n",
        "df[\"image_2_path\"] = images_two_paths\n",
        "\n",
        "# Create another column containing the integer ids of\n",
        "# the string labels.\n",
        "df[\"label_idx\"] = df[\"label\"].apply(lambda x: label_map[x])"
      ]
    },
    {
      "cell_type": "code",
      "execution_count": null,
      "id": "da869535-09bf-4390-a05b-155b532100a8",
      "metadata": {
        "id": "da869535-09bf-4390-a05b-155b532100a8",
        "outputId": "853a1c37-5f09-40cf-b4c1-1ce892057d5c"
      },
      "outputs": [
        {
          "data": {
            "image/png": "[encoded data removed]",
            "text/plain": [
              "<Figure size 432x288 with 2 Axes>"
            ]
          },
          "metadata": {
            "needs_background": "light"
          },
          "output_type": "display_data"
        },
        {
          "name": "stdout",
          "output_type": "stream",
          "text": [
            "Text one: My friends!go and have a look if you are interested.\n",
            "@CarrascoRosanna @AmieeEckerson @katnissvampire @Kathlee74027718 @goll7670 @MellamphyCorp https://t.co/cZJGn68rNk\n",
            "\n",
            "Text two: Friends! Anyone interested? Go and have a look.\n",
            "@Phylter52 @woody2516 @stevemchugh39 @KrizoAngela @SafetyMentalst @LeeEngleman1 @f_taggart @Buddbayman @SandraMalluck @SBellSouth1 https://t.co/CZVURWgseM\n",
            "\n",
            "Label: Implies\n",
            "\n"
          ]
        },
        {
          "data": {
            "image/png": "[encoded data removed]",
            "text/plain": [
              "<Figure size 432x288 with 2 Axes>"
            ]
          },
          "metadata": {
            "needs_background": "light"
          },
          "output_type": "display_data"
        },
        {
          "name": "stdout",
          "output_type": "stream",
          "text": [
            "Text one: SWP #English Basics:\n",
            "\n",
            "Which statement is written correctly?\n",
            "\n",
            "#SWPinEnglish #toefl #grammar #ielts #vocabulary #step https://t.co/CDeZGamfOv\n",
            "\n",
            "Text two: SWP #English Basics:\n",
            "\n",
            "Which is the correct statement?\n",
            "\n",
            "#SWPinEnglish #toefl #quiz #ielts #vocabulary #step #grammar #thursdaymorning https://t.co/TmgnlAmtBH\n",
            "\n",
            "Label: NoEntailment\n"
          ]
        }
      ],
      "source": [
        "def visualize(idx):\n",
        "    current_row = df.iloc[idx]\n",
        "    image_1 = plt.imread(current_row[\"image_1_path\"])\n",
        "    image_2 = plt.imread(current_row[\"image_2_path\"])\n",
        "    text_1 = current_row[\"text_1\"]\n",
        "    text_2 = current_row[\"text_2\"]\n",
        "    label = current_row[\"label\"]\n",
        "\n",
        "    plt.subplot(1, 2, 1)\n",
        "    plt.imshow(image_1)\n",
        "    plt.axis(\"off\")\n",
        "    plt.title(\"Image One\")\n",
        "    plt.subplot(1, 2, 2)\n",
        "    plt.imshow(image_1)\n",
        "    plt.axis(\"off\")\n",
        "    plt.title(\"Image Two\")\n",
        "    plt.show()\n",
        "\n",
        "    print(f\"Text one: {text_1}\")\n",
        "    print()\n",
        "    print(f\"Text two: {text_2}\")\n",
        "    print()\n",
        "    print(f\"Label: {label}\")\n",
        "\n",
        "\n",
        "random_idx = np.random.choice(len(df))\n",
        "visualize(random_idx)\n",
        "print()\n",
        "random_idx = np.random.choice(len(df))\n",
        "visualize(random_idx)"
      ]
    },
    {
      "cell_type": "markdown",
      "id": "e5452428-532b-41fc-aed3-a5b30151ed7f",
      "metadata": {
        "id": "e5452428-532b-41fc-aed3-a5b30151ed7f"
      },
      "source": [
        "## Understand the model architecture"
      ]
    },
    {
      "cell_type": "markdown",
      "id": "03e63d6c-986b-43ed-bc4c-3863dfafe503",
      "metadata": {
        "id": "03e63d6c-986b-43ed-bc4c-3863dfafe503"
      },
      "source": [
        "The model you will train in this example takes in the two images along with their text counterparts. \n",
        "\n",
        "The images will be directly fed to the model. The text inputs will be preprocessed and then fed to the model.\n",
        " \n",
        "The model consists of:\n",
        "\n",
        "* A standalone encoder for the images. This sample uses a\n",
        "[ResNet50V2](https://arxiv.org/abs/1603.05027) pre-trained on the ImageNet-1k dataset.\n",
        "\n",
        "* A standalone encoder for the text. A pre-trained BERT model will be used for this.\n",
        "\n",
        "After extracting the individual embeddings, they will be projected in an identical space. Then, their projections will be concatenated and be fed to the final classification layer."
      ]
    },
    {
      "cell_type": "markdown",
      "id": "86a0a89a-0ff1-4a73-ad28-7ced1b0872a2",
      "metadata": {
        "id": "86a0a89a-0ff1-4a73-ad28-7ced1b0872a2"
      },
      "source": [
        "## Write Dockerfile"
      ]
    },
    {
      "cell_type": "markdown",
      "id": "7ce30648-cbfe-4549-9a87-8f9f04bad2bf",
      "metadata": {
        "id": "7ce30648-cbfe-4549-9a87-8f9f04bad2bf"
      },
      "source": [
        "Now that we've looked at the image and text data we want to get predictions for, it's time to containerize our application."
      ]
    },
    {
      "cell_type": "code",
      "execution_count": null,
      "id": "b93b39a2-7b17-48b7-b68a-4ba15ea093d5",
      "metadata": {
        "id": "b93b39a2-7b17-48b7-b68a-4ba15ea093d5",
        "outputId": "2eb29728-06a0-4166-e035-5e75bef22384"
      },
      "outputs": [
        {
          "name": "stdout",
          "output_type": "stream",
          "text": [
            "Overwriting multimodal_sample/Dockerfile\n"
          ]
        }
      ],
      "source": [
        "%%writefile multimodal_sample/Dockerfile\n",
        "\n",
        "FROM us-docker.pkg.dev/vertex-ai/training/tf-gpu.2-5:latest\n",
        "\n",
        "WORKDIR /\n",
        "\n",
        "# Installs tensorflow text library\n",
        "RUN pip install tensorflow-text==2.5.0\n",
        "\n",
        "# Copies the trainer code to the docker image.\n",
        "COPY trainer /trainer\n",
        "\n",
        "# Sets up the entry point to invoke the trainer.\n",
        "ENTRYPOINT [\"python\", \"-m\", \"trainer.task\"]"
      ]
    },
    {
      "cell_type": "markdown",
      "id": "88f96243-bc73-412d-bc18-c099c3e080de",
      "metadata": {
        "id": "88f96243-bc73-412d-bc18-c099c3e080de"
      },
      "source": [
        "## Write training code"
      ]
    },
    {
      "cell_type": "code",
      "execution_count": null,
      "id": "ecbad468-cd22-4206-a723-ae9b7e35be91",
      "metadata": {
        "id": "ecbad468-cd22-4206-a723-ae9b7e35be91",
        "outputId": "53282f88-22bf-47db-dd9b-545ad2b4c338"
      },
      "outputs": [
        {
          "name": "stdout",
          "output_type": "stream",
          "text": [
            "Overwriting multimodal_sample/trainer/task.py\n"
          ]
        }
      ],
      "source": [
        "%%writefile multimodal_sample/trainer/task.py\n",
        "\n",
        "from sklearn.model_selection import train_test_split\n",
        "import matplotlib.pyplot as plt\n",
        "import pandas as pd\n",
        "import numpy as np\n",
        "import os\n",
        "\n",
        "import tensorflow as tf\n",
        "import tensorflow_hub as hub\n",
        "import tensorflow_text as text\n",
        "from tensorflow import keras\n",
        "\n",
        "\"\"\"## Define a label map\"\"\"\n",
        "\n",
        "label_map = {\"Contradictory\": 0, \"Implies\": 1, \"NoEntailment\": 2}\n",
        "\n",
        "\"\"\"## Collect the dataset\n",
        "\n",
        "The original dataset is available\n",
        "[here](https://github.com/google-research-datasets/recognizing-multimodal-entailment).\n",
        "It comes with URLs of images which are hosted on Twitter's photo storage system called\n",
        "the\n",
        "[Photo Blob Storage (PBS for short)](https://blog.twitter.com/engineering/en_us/a/2012/blobstore-twitter-s-in-house-photo-storage-system).\n",
        "We will be working with the downloaded images along with additional data that comes with\n",
        "the original dataset. Thanks to\n",
        "[Nilabhra Roy Chowdhury](https://de.linkedin.com/in/nilabhraroychowdhury) who worked on\n",
        "preparing the image data.\n",
        "\"\"\"\n",
        "\n",
        "image_base_path = keras.utils.get_file(\n",
        "    \"tweet_images\",\n",
        "    \"https://github.com/sayakpaul/Multimodal-Entailment-Baseline/releases/download/v1.0.0/tweet_images.tar.gz\",\n",
        "    untar=True,\n",
        ")\n",
        "\n",
        "\"\"\"## Read the dataset and apply basic preprocessing\"\"\"\n",
        "\n",
        "df = pd.read_csv(\n",
        "    \"https://github.com/sayakpaul/Multimodal-Entailment-Baseline/raw/main/csvs/tweets.csv\"\n",
        ")\n",
        "\n",
        "images_one_paths = []\n",
        "images_two_paths = []\n",
        "\n",
        "for idx in range(len(df)):\n",
        "    current_row = df.iloc[idx]\n",
        "    id_1 = current_row[\"id_1\"]\n",
        "    id_2 = current_row[\"id_2\"]\n",
        "    extentsion_one = current_row[\"image_1\"].split(\".\")[-1]\n",
        "    extentsion_two = current_row[\"image_2\"].split(\".\")[-1]\n",
        "\n",
        "    image_one_path = os.path.join(image_base_path, str(id_1) + f\".{extentsion_one}\")\n",
        "    image_two_path = os.path.join(image_base_path, str(id_2) + f\".{extentsion_two}\")\n",
        "\n",
        "    images_one_paths.append(image_one_path)\n",
        "    images_two_paths.append(image_two_path)\n",
        "\n",
        "df[\"image_1_path\"] = images_one_paths\n",
        "df[\"image_2_path\"] = images_two_paths\n",
        "\n",
        "# Create another column containing the integer ids of\n",
        "# the string labels.\n",
        "df[\"label_idx\"] = df[\"label\"].apply(lambda x: label_map[x])\n",
        "\n",
        "\n",
        "df[\"label\"].value_counts()\n",
        "\n",
        "\"\"\"To account for that we will go for a stratified split.\"\"\"\n",
        "\n",
        "# 10% for test\n",
        "train_df, test_df = train_test_split(\n",
        "    df, test_size=0.1, stratify=df[\"label\"].values, random_state=42\n",
        ")\n",
        "# 5% for validation\n",
        "train_df, val_df = train_test_split(\n",
        "    train_df, test_size=0.05, stratify=train_df[\"label\"].values, random_state=42\n",
        ")\n",
        "\n",
        "print(f\"Total training examples: {len(train_df)}\")\n",
        "print(f\"Total validation examples: {len(val_df)}\")\n",
        "print(f\"Total test examples: {len(test_df)}\")\n",
        "\n",
        "\"\"\"## Data input pipeline\n",
        "\n",
        "TensorFlow Hub provides\n",
        "[variety of BERT family of models](https://www.tensorflow.org/text/tutorials/bert_glue#loading_models_from_tensorflow_hub).\n",
        "Each of those models comes with a\n",
        "corresponding preprocessing layer. You can learn more about these models and their\n",
        "preprocessing layers from\n",
        "[this resource](https://www.tensorflow.org/text/tutorials/bert_glue#loading_models_from_tensorflow_hub).\n",
        "\n",
        "To keep the runtime of this example relatively short, we will use a smaller variant of\n",
        "the original BERT model.\n",
        "\"\"\"\n",
        "\n",
        "# Define TF Hub paths to the BERT encoder and its preprocessor\n",
        "bert_model_path = (\n",
        "    \"https://tfhub.dev/tensorflow/small_bert/bert_en_uncased_L-2_H-256_A-4/1\"\n",
        ")\n",
        "bert_preprocess_path = \"https://tfhub.dev/tensorflow/bert_en_uncased_preprocess/3\"\n",
        "\n",
        "\"\"\"Our text preprocessing code mostly comes from\n",
        "[this tutorial](https://www.tensorflow.org/text/tutorials/bert_glue).\n",
        "You are highly encouraged to check out the tutorial to learn more about the input\n",
        "preprocessing.\n",
        "\"\"\"\n",
        "\n",
        "def make_bert_preprocessing_model(sentence_features, seq_length=128):\n",
        "    \"\"\"Returns Model mapping string features to BERT inputs.\n",
        "\n",
        "  Args:\n",
        "    sentence_features: A list with the names of string-valued features.\n",
        "    seq_length: An integer that defines the sequence length of BERT inputs.\n",
        "\n",
        "  Returns:\n",
        "    A Keras Model that can be called on a list or dict of string Tensors\n",
        "    (with the order or names, resp., given by sentence_features) and\n",
        "    returns a dict of tensors for input to BERT.\n",
        "  \"\"\"\n",
        "\n",
        "    input_segments = [\n",
        "        tf.keras.layers.Input(shape=(), dtype=tf.string, name=ft)\n",
        "        for ft in sentence_features\n",
        "    ]\n",
        "\n",
        "    # Tokenize the text to word pieces.\n",
        "    bert_preprocess = hub.load(bert_preprocess_path)\n",
        "    tokenizer = hub.KerasLayer(bert_preprocess.tokenize, name=\"tokenizer\")\n",
        "    segments = [tokenizer(s) for s in input_segments]\n",
        "\n",
        "    # Optional: Trim segments in a smart way to fit seq_length.\n",
        "    # Simple cases (like this example) can skip this step and let\n",
        "    # the next step apply a default truncation to approximately equal lengths.\n",
        "    truncated_segments = segments\n",
        "\n",
        "    # Pack inputs. The details (start/end token ids, dict of output tensors)\n",
        "    # are model-dependent, so this gets loaded from the SavedModel.\n",
        "    packer = hub.KerasLayer(\n",
        "        bert_preprocess.bert_pack_inputs,\n",
        "        arguments=dict(seq_length=seq_length),\n",
        "        name=\"packer\",\n",
        "    )\n",
        "    model_inputs = packer(truncated_segments)\n",
        "    return keras.Model(input_segments, model_inputs)\n",
        "\n",
        "\n",
        "bert_preprocess_model = make_bert_preprocessing_model([\"text_1\", \"text_2\"])\n",
        "keras.utils.plot_model(bert_preprocess_model, show_shapes=True, show_dtype=True)\n",
        "\n",
        "\"\"\"### Run the preprocessor on a sample input\"\"\"\n",
        "\n",
        "idx = np.random.choice(len(train_df))\n",
        "row = train_df.iloc[idx]\n",
        "sample_text_1, sample_text_2 = row[\"text_1\"], row[\"text_2\"]\n",
        "print(f\"Text 1: {sample_text_1}\")\n",
        "print(f\"Text 2: {sample_text_2}\")\n",
        "\n",
        "test_text = [np.array([sample_text_1]), np.array([sample_text_2])]\n",
        "text_preprocessed = bert_preprocess_model(test_text)\n",
        "\n",
        "print(\"Keys           : \", list(text_preprocessed.keys()))\n",
        "print(\"Shape Word Ids : \", text_preprocessed[\"input_word_ids\"].shape)\n",
        "print(\"Word Ids       : \", text_preprocessed[\"input_word_ids\"][0, :16])\n",
        "print(\"Shape Mask     : \", text_preprocessed[\"input_mask\"].shape)\n",
        "print(\"Input Mask     : \", text_preprocessed[\"input_mask\"][0, :16])\n",
        "print(\"Shape Type Ids : \", text_preprocessed[\"input_type_ids\"].shape)\n",
        "print(\"Type Ids       : \", text_preprocessed[\"input_type_ids\"][0, :16])\n",
        "\n",
        "\"\"\"We will now create `tf.data.Dataset` objects from the dataframes.\n",
        "\n",
        "Note that the text inputs will be preprocessed as a part of the data input pipeline. But\n",
        "the preprocessing modules can also be a part of their corresponding BERT models. This\n",
        "helps reduce the training/serving skew and lets our models operate with raw text inputs.\n",
        "Follow [this tutorial](https://www.tensorflow.org/text/tutorials/classify_text_with_bert)\n",
        "to learn more about how to incorporate the preprocessing modules directly inside the\n",
        "models.\n",
        "\"\"\"\n",
        "\n",
        "def dataframe_to_dataset(dataframe):\n",
        "    columns = [\"image_1_path\", \"image_2_path\", \"text_1\", \"text_2\", \"label_idx\"]\n",
        "    dataframe = dataframe[columns].copy()\n",
        "    labels = dataframe.pop(\"label_idx\")\n",
        "    ds = tf.data.Dataset.from_tensor_slices((dict(dataframe), labels))\n",
        "    ds = ds.shuffle(buffer_size=len(dataframe))\n",
        "    return ds\n",
        "\n",
        "\"\"\"### Preprocessing utilities\"\"\"\n",
        "\n",
        "resize = (128, 128)\n",
        "bert_input_features = [\"input_word_ids\", \"input_type_ids\", \"input_mask\"]\n",
        "\n",
        "\n",
        "def preprocess_image(image_path):\n",
        "    extension = tf.strings.split(image_path)[-1]\n",
        "\n",
        "    image = tf.io.read_file(image_path)\n",
        "    if extension == b\"jpg\":\n",
        "        image = tf.image.decode_jpeg(image, 3)\n",
        "    else:\n",
        "        image = tf.image.decode_png(image, 3)\n",
        "    image = tf.image.resize(image, resize)\n",
        "    return image\n",
        "\n",
        "\n",
        "def preprocess_text(text_1, text_2):\n",
        "    text_1 = tf.convert_to_tensor([text_1])\n",
        "    text_2 = tf.convert_to_tensor([text_2])\n",
        "    output = bert_preprocess_model([text_1, text_2])\n",
        "    output = {feature: tf.squeeze(output[feature]) for feature in bert_input_features}\n",
        "    return output\n",
        "\n",
        "\n",
        "def preprocess_text_and_image(sample):\n",
        "    image_1 = preprocess_image(sample[\"image_1_path\"])\n",
        "    image_2 = preprocess_image(sample[\"image_2_path\"])\n",
        "    text = preprocess_text(sample[\"text_1\"], sample[\"text_2\"])\n",
        "    return {\"image_1\": image_1, \"image_2\": image_2, \"text\": text}\n",
        "\n",
        "\"\"\"### Create the final datasets\"\"\"\n",
        "\n",
        "batch_size = 32\n",
        "auto = tf.data.AUTOTUNE\n",
        "\n",
        "\n",
        "def prepare_dataset(dataframe, training=True):\n",
        "    ds = dataframe_to_dataset(dataframe)\n",
        "    if training:\n",
        "        ds = ds.shuffle(len(train_df))\n",
        "    ds = ds.map(lambda x, y: (preprocess_text_and_image(x), y)).cache()\n",
        "    ds = ds.batch(batch_size).prefetch(auto)\n",
        "    return ds\n",
        "\n",
        "\n",
        "train_ds = prepare_dataset(train_df)\n",
        "validation_ds = prepare_dataset(val_df, False)\n",
        "test_ds = prepare_dataset(test_df, False)\n",
        "\n",
        "\"\"\"## Model building utilities\n",
        "\n",
        "Our final model will accept two images along with their text counterparts. While the\n",
        "images will be directly fed to the model the text inputs will first be preprocessed and\n",
        "then will make it into the model. \n",
        "The model consists of the following elements:\n",
        "\n",
        "* A standalone encoder for the images. We will use a\n",
        "[ResNet50V2](https://arxiv.org/abs/1603.05027) pre-trained on the ImageNet-1k dataset for\n",
        "this.\n",
        "* A standalone encoder for the images. A pre-trained BERT will be used for this.\n",
        "\n",
        "After extracting the individual embeddings, they will be projected in an identical space.\n",
        "Finally, their projections will be concatenated and be fed to the final classification\n",
        "layer.\n",
        "\n",
        "This is a multi-class classification problem involving the following classes:\n",
        "\n",
        "* NoEntailment\n",
        "* Implies\n",
        "* Contradictory\n",
        "\n",
        "`project_embeddings()`, `create_vision_encoder()`, and `create_text_encoder()` utilities\n",
        "are referred from [this example](https://keras.io/examples/nlp/nl_image_search/).\n",
        "\n",
        "Projection utilities\n",
        "\"\"\"\n",
        "\n",
        "def project_embeddings(\n",
        "    embeddings, num_projection_layers, projection_dims, dropout_rate\n",
        "):\n",
        "    projected_embeddings = keras.layers.Dense(units=projection_dims)(embeddings)\n",
        "    for _ in range(num_projection_layers):\n",
        "        x = tf.nn.gelu(projected_embeddings)\n",
        "        x = keras.layers.Dense(projection_dims)(x)\n",
        "        x = keras.layers.Dropout(dropout_rate)(x)\n",
        "        x = keras.layers.Add()([projected_embeddings, x])\n",
        "        projected_embeddings = keras.layers.LayerNormalization()(x)\n",
        "    return projected_embeddings\n",
        "\n",
        "\"\"\"Vision encoder utilities\"\"\"\n",
        "\n",
        "def create_vision_encoder(\n",
        "    num_projection_layers, projection_dims, dropout_rate, trainable=False\n",
        "):\n",
        "    # Load the pre-trained ResNet50V2 model to be used as the base encoder.\n",
        "    resnet_v2 = keras.applications.ResNet50V2(\n",
        "        include_top=False, weights=\"imagenet\", pooling=\"avg\"\n",
        "    )\n",
        "    # Set the trainability of the base encoder.\n",
        "    for layer in resnet_v2.layers:\n",
        "        layer.trainable = trainable\n",
        "\n",
        "    # Receive the images as inputs.\n",
        "    image_1 = keras.Input(shape=(128, 128, 3), name=\"image_1\")\n",
        "    image_2 = keras.Input(shape=(128, 128, 3), name=\"image_2\")\n",
        "\n",
        "    # Preprocess the input image.\n",
        "    preprocessed_1 = keras.applications.resnet_v2.preprocess_input(image_1)\n",
        "    preprocessed_2 = keras.applications.resnet_v2.preprocess_input(image_2)\n",
        "\n",
        "    # Generate the embeddings for the images using the resnet_v2 model\n",
        "    # concatenate them.\n",
        "    embeddings_1 = resnet_v2(preprocessed_1)\n",
        "    embeddings_2 = resnet_v2(preprocessed_2)\n",
        "    embeddings = keras.layers.Concatenate()([embeddings_1, embeddings_2])\n",
        "\n",
        "    # Project the embeddings produced by the model.\n",
        "    outputs = project_embeddings(\n",
        "        embeddings, num_projection_layers, projection_dims, dropout_rate\n",
        "    )\n",
        "    # Create the vision encoder model.\n",
        "    return keras.Model([image_1, image_2], outputs, name=\"vision_encoder\")\n",
        "\n",
        "\"\"\"Text encoder utilities\"\"\"\n",
        "\n",
        "def create_text_encoder(\n",
        "    num_projection_layers, projection_dims, dropout_rate, trainable=False\n",
        "):\n",
        "    # Load the pre-trained BERT model to be used as the base encoder.\n",
        "    bert = hub.KerasLayer(bert_model_path, name=\"bert\",)\n",
        "    # Set the trainability of the base encoder.\n",
        "    bert.trainable = trainable\n",
        "\n",
        "    # Receive the text as inputs.\n",
        "    bert_input_features = [\"input_type_ids\", \"input_mask\", \"input_word_ids\"]\n",
        "    inputs = {\n",
        "        feature: keras.Input(shape=(128,), dtype=tf.int32, name=feature)\n",
        "        for feature in bert_input_features\n",
        "    }\n",
        "\n",
        "    # Generate embeddings for the preprocessed text using the BERT model.\n",
        "    embeddings = bert(inputs)[\"pooled_output\"]\n",
        "\n",
        "    # Project the embeddings produced by the model.\n",
        "    outputs = project_embeddings(\n",
        "        embeddings, num_projection_layers, projection_dims, dropout_rate\n",
        "    )\n",
        "    # Create the text encoder model.\n",
        "    return keras.Model(inputs, outputs, name=\"text_encoder\")\n",
        "\n",
        "\"\"\"Multimodal model utilities\"\"\"\n",
        "\n",
        "def create_multimodal_model(\n",
        "    num_projection_layers=1,\n",
        "    projection_dims=256,\n",
        "    dropout_rate=0.1,\n",
        "    vision_trainable=False,\n",
        "    text_trainable=False,\n",
        "):\n",
        "    # Receive the images as inputs.\n",
        "    image_1 = keras.Input(shape=(128, 128, 3), name=\"image_1\")\n",
        "    image_2 = keras.Input(shape=(128, 128, 3), name=\"image_2\")\n",
        "\n",
        "    # Receive the text as inputs.\n",
        "    bert_input_features = [\"input_type_ids\", \"input_mask\", \"input_word_ids\"]\n",
        "    text_inputs = {\n",
        "        feature: keras.Input(shape=(128,), dtype=tf.int32, name=feature)\n",
        "        for feature in bert_input_features\n",
        "    }\n",
        "\n",
        "    # Create the encoders.\n",
        "    vision_encoder = create_vision_encoder(\n",
        "        num_projection_layers, projection_dims, dropout_rate, vision_trainable\n",
        "    )\n",
        "    text_encoder = create_text_encoder(\n",
        "        num_projection_layers, projection_dims, dropout_rate, text_trainable\n",
        "    )\n",
        "\n",
        "    # Fetch the embedding projections.\n",
        "    vision_projections = vision_encoder([image_1, image_2])\n",
        "    text_projections = text_encoder(text_inputs)\n",
        "\n",
        "    # Concatenate the projections and pass through the classification layer.\n",
        "    concatenated = keras.layers.Concatenate()([vision_projections, text_projections])\n",
        "    outputs = keras.layers.Dense(3, activation=\"softmax\")(concatenated)\n",
        "    return keras.Model([image_1, image_2, text_inputs], outputs)\n",
        "\n",
        "\n",
        "multimodal_model = create_multimodal_model()\n",
        "keras.utils.plot_model(multimodal_model, show_shapes=True)\n",
        "\n",
        "\"\"\"You can inspect the structure of the individual encoders as well by setting the\n",
        "`expand_nested` argument of `plot_model()` to `True`. You are encouraged\n",
        "to play with the different hyperparameters involved in building this model and\n",
        "observe how the final performance is affected.\n",
        "\n",
        "## Compile and train the model\n",
        "\"\"\"\n",
        "\n",
        "multimodal_model.compile(\n",
        "    optimizer=\"adam\", loss=\"sparse_categorical_crossentropy\", metrics=\"accuracy\"\n",
        ")\n",
        "\n",
        "history = multimodal_model.fit(train_ds, validation_data=validation_ds, epochs=5)"
      ]
    },
    {
      "cell_type": "markdown",
      "id": "df7c889c-839a-4058-93c0-09559b687d2f",
      "metadata": {
        "id": "df7c889c-839a-4058-93c0-09559b687d2f"
      },
      "source": [
        "## Containerize training application code\n",
        "\n",
        "To run a custom training job on Vertex AI you need a container. In this case you will build and push your own container to Artifact Registry."
      ]
    },
    {
      "cell_type": "code",
      "execution_count": null,
      "id": "a407b070-95bc-4cda-9daf-3c32e63385f5",
      "metadata": {
        "id": "a407b070-95bc-4cda-9daf-3c32e63385f5"
      },
      "outputs": [],
      "source": [
        "# Create artifact registry repo\n",
        "\n",
        "REPO_NAME='multimodal-app'\n",
        "\n",
        "!gcloud artifacts repositories create {REPO_NAME} --repository-format=docker \\\n",
        "--location=us-central1 --description=\"Docker repository\""
      ]
    },
    {
      "cell_type": "code",
      "execution_count": null,
      "id": "df18e1e2-9c8b-496a-9b77-ab51317795df",
      "metadata": {
        "id": "df18e1e2-9c8b-496a-9b77-ab51317795df"
      },
      "outputs": [],
      "source": [
        "cd multimodal_sample"
      ]
    },
    {
      "cell_type": "code",
      "execution_count": null,
      "id": "12f9b78b-a659-458b-82b9-0e74038ec471",
      "metadata": {
        "id": "12f9b78b-a659-458b-82b9-0e74038ec471"
      },
      "outputs": [],
      "source": [
        "IMAGE_URI=f'us-central1-docker.pkg.dev/{PROJECT_ID}/{REPO_NAME}/multimodal_image:latest'"
      ]
    },
    {
      "cell_type": "code",
      "execution_count": null,
      "id": "ca2a791a-0698-4b77-89ae-89d6c1c278b5",
      "metadata": {
        "id": "ca2a791a-0698-4b77-89ae-89d6c1c278b5"
      },
      "outputs": [],
      "source": [
        "# build image\n",
        "\n",
        "!docker build ./ -t {IMAGE_URI}"
      ]
    },
    {
      "cell_type": "code",
      "execution_count": null,
      "id": "8ce61651-5121-49cb-a55a-5c6d6d4ad4a0",
      "metadata": {
        "id": "8ce61651-5121-49cb-a55a-5c6d6d4ad4a0"
      },
      "outputs": [],
      "source": [
        "# push image\n",
        "\n",
        "! docker push {IMAGE_URI}"
      ]
    },
    {
      "cell_type": "markdown",
      "id": "eee78044-8edf-47d2-8ca4-3aa7b87a262a",
      "metadata": {
        "id": "eee78044-8edf-47d2-8ca4-3aa7b87a262a"
      },
      "source": [
        "## Run training job\n",
        "\n",
        "Use the Vertex AI SDK to create and run a custom training job."
      ]
    },
    {
      "cell_type": "code",
      "execution_count": null,
      "id": "cef906e2-9423-4b0e-9458-83d5ba12c13c",
      "metadata": {
        "id": "cef906e2-9423-4b0e-9458-83d5ba12c13c"
      },
      "outputs": [],
      "source": [
        "# Define job\n",
        "\n",
        "my_job = aiplatform.CustomContainerTrainingJob(display_name='multimodal-job',\n",
        "                                               container_uri=IMAGE_URI,\n",
        "                                               staging_bucket=BUCKET_NAME)"
      ]
    },
    {
      "cell_type": "code",
      "execution_count": null,
      "id": "95bdf349-b02b-4ef6-bd0e-4df41a31db5a",
      "metadata": {
        "id": "95bdf349-b02b-4ef6-bd0e-4df41a31db5a"
      },
      "outputs": [],
      "source": [
        "# Run job\n",
        "\n",
        "my_job.run(replica_count=1,\n",
        "           machine_type='n1-standard-8')"
      ]
    }
  ],
  "metadata": {
    "environment": {
      "kernel": "python3",
      "name": "tf2-gpu.2-9.m95",
      "type": "gcloud",
      "uri": "gcr.io/deeplearning-platform-release/tf2-gpu.2-9:m95"
    },
    "kernelspec": {
      "display_name": "Python 3",
      "language": "python",
      "name": "python3"
    },
    "language_info": {
      "codemirror_mode": {
        "name": "ipython",
        "version": 3
      },
      "file_extension": ".py",
      "mimetype": "text/x-python",
      "name": "python",
      "nbconvert_exporter": "python",
      "pygments_lexer": "ipython3",
      "version": "3.7.12"
    },
    "colab": {
      "provenance": [],
      "collapsed_sections": []
    }
  },
  "nbformat": 4,
  "nbformat_minor": 5
}
